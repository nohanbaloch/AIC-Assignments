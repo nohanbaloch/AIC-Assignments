{
 "cells": [
  {
   "cell_type": "code",
   "execution_count": 172,
   "id": "c3da1ec2-2d7e-4081-849c-35c370970af3",
   "metadata": {},
   "outputs": [
    {
     "name": "stdout",
     "output_type": "stream",
     "text": [
      "Hello\n",
      "world\n",
      "H\n",
      "o\n",
      "m\n",
      "e\n"
     ]
    }
   ],
   "source": [
    "a = \"Hello\" , \"world\"\n",
    "for x in a:\n",
    "    print(x)\n",
    "for i in \"Home\":\n",
    "    print(i)"
   ]
  },
  {
   "cell_type": "code",
   "execution_count": 30,
   "id": "790a51a9-47d6-4226-8e20-c3cd11457754",
   "metadata": {},
   "outputs": [
    {
     "name": "stdout",
     "output_type": "stream",
     "text": [
      "a\n",
      "b\n",
      "c\n",
      "d\n",
      "e\n",
      "f\n",
      "g\n",
      "h\n",
      "i\n",
      "j\n",
      "k\n",
      "l\n",
      "m\n",
      "n\n",
      "o\n",
      "p\n",
      "q\n",
      "r\n",
      "s\n"
     ]
    }
   ],
   "source": [
    "a = \"abcdefghijklmnopqrstuvwxyz\"\n",
    "i = 0\n",
    "while a[i] != \"t\":\n",
    "    print(a[i])\n",
    "    i = i + 1"
   ]
  },
  {
   "cell_type": "code",
   "execution_count": 48,
   "id": "f84d61ca-fb83-4e5c-be42-4d55ef62e257",
   "metadata": {},
   "outputs": [
    {
     "name": "stdout",
     "output_type": "stream",
     "text": [
      "Hello, World!\n"
     ]
    }
   ],
   "source": [
    "a = \" Hello, World!    \"\n",
    "print(a.strip())"
   ]
  },
  {
   "cell_type": "code",
   "execution_count": 49,
   "id": "ef9e31f7-b6b9-42b6-85c0-be6200c7c27b",
   "metadata": {},
   "outputs": [
    {
     "name": "stdout",
     "output_type": "stream",
     "text": [
      "['Hello', ' World!']\n"
     ]
    }
   ],
   "source": [
    "a = \"Hello, World!\"\n",
    "print(a.split(\",\"))"
   ]
  },
  {
   "cell_type": "code",
   "execution_count": 18,
   "id": "fe5f7b72-00d2-4fcb-8deb-06a3ac83d532",
   "metadata": {},
   "outputs": [
    {
     "name": "stdout",
     "output_type": "stream",
     "text": [
      "Character\n"
     ]
    }
   ],
   "source": [
    "a = \"character\"\n",
    "print(a.capitalize())"
   ]
  },
  {
   "cell_type": "code",
   "execution_count": 21,
   "id": "3a9a4100-f766-4743-90cc-04aad3a2d806",
   "metadata": {},
   "outputs": [
    {
     "name": "stdout",
     "output_type": "stream",
     "text": [
      "books\n"
     ]
    }
   ],
   "source": [
    "b = \"BOOKS\"\n",
    "print(b.casefold())"
   ]
  },
  {
   "cell_type": "code",
   "execution_count": 158,
   "id": "7bb9c859-a12c-48a9-bc29-c103132add82",
   "metadata": {},
   "outputs": [
    {
     "name": "stdout",
     "output_type": "stream",
     "text": [
      "     Jupyter Notebook    \n"
     ]
    }
   ],
   "source": [
    "note = \"Jupyter Notebook\"\n",
    "\n",
    "c = note.center(25)\n",
    "\n",
    "print(c)"
   ]
  },
  {
   "cell_type": "code",
   "execution_count": 159,
   "id": "1a990f75-9686-4493-ad5d-a1b0c59850e1",
   "metadata": {},
   "outputs": [
    {
     "name": "stdout",
     "output_type": "stream",
     "text": [
      "3\n"
     ]
    }
   ],
   "source": [
    "txt = \"\"\"Artificial intelligence (AI) is the intelligence of machines or software,\n",
    "as opposed to the intelligence of living beings, primarily of humans. It is a field of study in \n",
    "computer science that develops and studies intelligent machines. Such machines may be called AIs.\"\"\"\n",
    "\n",
    "d = txt.count(\"machines\")\n",
    "\n",
    "print(d)"
   ]
  },
  {
   "cell_type": "code",
   "execution_count": 86,
   "id": "bce30400-8164-4ddf-8ebc-56716b385bf2",
   "metadata": {},
   "outputs": [
    {
     "name": "stdout",
     "output_type": "stream",
     "text": [
      "b'My name is Nohan'\n"
     ]
    }
   ],
   "source": [
    "txt = \"My name is Nohan\"\n",
    "\n",
    "e = txt.encode()\n",
    "\n",
    "print(e)"
   ]
  },
  {
   "cell_type": "code",
   "execution_count": 83,
   "id": "12c138db-316e-40f6-96a0-51cb6b38ca50",
   "metadata": {},
   "outputs": [
    {
     "name": "stdout",
     "output_type": "stream",
     "text": [
      "True\n"
     ]
    }
   ],
   "source": [
    "txt = \"Artificial intelligence (AI) is the intelligence of machines or software\"\n",
    "\n",
    "f = txt.endswith(\"software\")\n",
    "\n",
    "print(f)\n"
   ]
  },
  {
   "cell_type": "code",
   "execution_count": 163,
   "id": "60d7f116-8e7d-4fd3-8410-682763c7f6d1",
   "metadata": {},
   "outputs": [
    {
     "name": "stdout",
     "output_type": "stream",
     "text": [
      "N        O       H       A       N\n",
      "N   O   H   A   N\n",
      "N     O    H    A    N\n"
     ]
    }
   ],
   "source": [
    "txt = \"N \\t O \\t H \\t A \\t N\"\n",
    "\n",
    "g = txt.expandtabs()\n",
    "g1 =  txt.expandtabs(2)\n",
    "g2 =  txt.expandtabs(6)\n",
    "\n",
    "\n",
    "print(g)\n",
    "print(g1)\n",
    "print(g2)"
   ]
  },
  {
   "cell_type": "code",
   "execution_count": 101,
   "id": "5b5598bc-bfbd-435e-837a-40555110ee95",
   "metadata": {},
   "outputs": [
    {
     "name": "stdout",
     "output_type": "stream",
     "text": [
      "7\n"
     ]
    }
   ],
   "source": [
    "txt = \"Hello, world.\"\n",
    "\n",
    "h = txt.find(\"world\")\n",
    "\n",
    "print(h)"
   ]
  },
  {
   "cell_type": "code",
   "execution_count": 99,
   "id": "458457fe-13c6-4651-bcfd-d24fb1ebcbd4",
   "metadata": {},
   "outputs": [],
   "source": [
    "#Python String format() Method\n",
    "\n"
   ]
  },
  {
   "cell_type": "code",
   "execution_count": 102,
   "id": "86297ce2-326a-45f1-89bf-b0225288284c",
   "metadata": {},
   "outputs": [
    {
     "name": "stdout",
     "output_type": "stream",
     "text": [
      "17\n"
     ]
    }
   ],
   "source": [
    "txt = \"A loop is like a special instruction that tells the machine to do something over and over again\"\n",
    "\n",
    "i = txt.index(\"special\")\n",
    "\n",
    "print(i)"
   ]
  },
  {
   "cell_type": "code",
   "execution_count": 104,
   "id": "1ee7bc9e-4c26-4ce8-ae69-d12c1dafd684",
   "metadata": {},
   "outputs": [
    {
     "name": "stdout",
     "output_type": "stream",
     "text": [
      "True\n"
     ]
    }
   ],
   "source": [
    "txt = \"Home12\"\n",
    "\n",
    "j = txt.isalnum() #aplhanumeric\n",
    "\n",
    "print(j)"
   ]
  },
  {
   "cell_type": "code",
   "execution_count": 106,
   "id": "4f12cfd6-c282-41fd-9f07-127372cc987c",
   "metadata": {},
   "outputs": [
    {
     "name": "stdout",
     "output_type": "stream",
     "text": [
      "False\n"
     ]
    }
   ],
   "source": [
    "txt = \"Home12\"\n",
    "\n",
    "k = txt.isalpha()\n",
    "\n",
    "print(k)"
   ]
  },
  {
   "cell_type": "code",
   "execution_count": 107,
   "id": "b3c9e117-f605-4fe7-b2fd-2a82bf304753",
   "metadata": {},
   "outputs": [
    {
     "name": "stdout",
     "output_type": "stream",
     "text": [
      "True\n"
     ]
    }
   ],
   "source": [
    "txt = \"Home12\"\n",
    "\n",
    "l = txt.isascii()\n",
    "\n",
    "print(l)"
   ]
  },
  {
   "cell_type": "code",
   "execution_count": 109,
   "id": "5f4ecd96-a14d-4b90-9de5-5e9adf0f1ca9",
   "metadata": {},
   "outputs": [
    {
     "name": "stdout",
     "output_type": "stream",
     "text": [
      "False\n"
     ]
    }
   ],
   "source": [
    "txt = \"Home12\"\n",
    "\n",
    "m = txt.isdecimal()\n",
    "\n",
    "print(m)"
   ]
  },
  {
   "cell_type": "code",
   "execution_count": 110,
   "id": "9f467b26-8aba-4a71-aa18-5cde04c2107b",
   "metadata": {},
   "outputs": [
    {
     "name": "stdout",
     "output_type": "stream",
     "text": [
      "True\n"
     ]
    }
   ],
   "source": [
    "txt = \"1947\"\n",
    "\n",
    "n = txt.isdigit()\n",
    "\n",
    "print(n)"
   ]
  },
  {
   "cell_type": "code",
   "execution_count": 116,
   "id": "673a4039-06d6-49bc-83d5-6908b7c4daf9",
   "metadata": {},
   "outputs": [
    {
     "name": "stdout",
     "output_type": "stream",
     "text": [
      "Bilal Rafey Talha\n"
     ]
    }
   ],
   "source": [
    "myTuple= (\"Bilal\", \"Rafey\", \"Talha\")\n",
    "\n",
    "o = \" \".join(myTuple)\n",
    "\n",
    "print(o)"
   ]
  },
  {
   "cell_type": "code",
   "execution_count": 121,
   "id": "3010975e-447b-4c3e-a666-a558d399aaca",
   "metadata": {},
   "outputs": [
    {
     "name": "stdout",
     "output_type": "stream",
     "text": [
      " Cat\n"
     ]
    }
   ],
   "source": [
    "txt = \"dog Cat\"\n",
    "\n",
    "p = txt.lstrip(\"dog\")\n",
    "\n",
    "print(p)"
   ]
  },
  {
   "cell_type": "code",
   "execution_count": 131,
   "id": "f259262c-135d-4dcc-a0ab-9d80b76bc2a0",
   "metadata": {},
   "outputs": [
    {
     "name": "stdout",
     "output_type": "stream",
     "text": [
      "Hi Talha!\n"
     ]
    }
   ],
   "source": [
    "\"\"\"txt = \"Hello World\"\n",
    "mytable = str.maketrans(\" \", \"_\")\n",
    "print(txt.translate(mytable))\"\"\"\n",
    "\n",
    "txt = \"Hi Nohan!\"\n",
    "x = \"Nohan\"\n",
    "y = \"Talha\"\n",
    "mytable = str.maketrans(x, y)\n",
    "print(txt.translate(mytable))"
   ]
  },
  {
   "cell_type": "code",
   "execution_count": 137,
   "id": "cedfbf0b-bc0e-4c3e-90d6-af00b4dfb0ab",
   "metadata": {},
   "outputs": [
    {
     "name": "stdout",
     "output_type": "stream",
     "text": [
      "____Python is a programing language.\n"
     ]
    }
   ],
   "source": [
    "txt = \"Python\"\n",
    "\n",
    "q = txt.rjust(10, \"_\")\n",
    "\n",
    "print(q, \"is a programing language.\")"
   ]
  },
  {
   "cell_type": "code",
   "execution_count": 141,
   "id": "c2d366a8-9e12-455f-9c77-fd3b533cb0d5",
   "metadata": {},
   "outputs": [
    {
     "name": "stdout",
     "output_type": "stream",
     "text": [
      "('Pyhton is a ', 'programing', ' language')\n"
     ]
    }
   ],
   "source": [
    "txt = \"Pyhton is a programing language\"\n",
    "\n",
    "r = txt.rpartition(\"programing\")\n",
    "\n",
    "print(r)"
   ]
  },
  {
   "cell_type": "code",
   "execution_count": 148,
   "id": "8e3f1d70-2778-46a9-b36b-6d42e8256a34",
   "metadata": {},
   "outputs": [
    {
     "name": "stdout",
     "output_type": "stream",
     "text": [
      "['laptop, pen, book', 'car', 'cat,']\n"
     ]
    }
   ],
   "source": [
    "txt = \"laptop, pen, book, car, cat,\"\n",
    "\n",
    "s = txt.rsplit(\", \", 2)\n",
    "\n",
    "print(s)"
   ]
  },
  {
   "cell_type": "code",
   "execution_count": 150,
   "id": "6426c32f-8697-49a1-a19a-598326845631",
   "metadata": {},
   "outputs": [
    {
     "name": "stdout",
     "output_type": "stream",
     "text": [
      "Hello Pam!\n"
     ]
    }
   ],
   "source": [
    "#use a dictionary with ascii codes to replace 83 (S) with 80 (P):\n",
    "mydict = {83:  80}\n",
    "txt = \"Hello Sam!\"\n",
    "print(txt.translate(mydict))"
   ]
  },
  {
   "cell_type": "code",
   "execution_count": 152,
   "id": "7c7baa87-c6ad-421a-891a-605248d2e437",
   "metadata": {},
   "outputs": [
    {
     "name": "stdout",
     "output_type": "stream",
     "text": [
      "Pyhton Is A Programing Language\n"
     ]
    }
   ],
   "source": [
    "txt = \"pyhton is a programing language\"\n",
    "\n",
    "x = txt.title()\n",
    "\n",
    "print(x)"
   ]
  },
  {
   "cell_type": "code",
   "execution_count": 153,
   "id": "48b6d23d-8476-4449-abd8-6473c154d9d5",
   "metadata": {},
   "outputs": [
    {
     "name": "stdout",
     "output_type": "stream",
     "text": [
      "0000000050\n"
     ]
    }
   ],
   "source": [
    "txt = \"50\"\n",
    "\n",
    "x = txt.zfill(10)\n",
    "\n",
    "print(x)"
   ]
  },
  {
   "cell_type": "code",
   "execution_count": null,
   "id": "c6e19a42-ce2b-4b13-b674-60145205d09c",
   "metadata": {},
   "outputs": [],
   "source": []
  }
 ],
 "metadata": {
  "kernelspec": {
   "display_name": "Python 3 (ipykernel)",
   "language": "python",
   "name": "python3"
  },
  "language_info": {
   "codemirror_mode": {
    "name": "ipython",
    "version": 3
   },
   "file_extension": ".py",
   "mimetype": "text/x-python",
   "name": "python",
   "nbconvert_exporter": "python",
   "pygments_lexer": "ipython3",
   "version": "3.12.2"
  }
 },
 "nbformat": 4,
 "nbformat_minor": 5
}
