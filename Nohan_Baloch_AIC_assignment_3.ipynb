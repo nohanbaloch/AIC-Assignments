{
 "cells": [
  {
   "cell_type": "code",
   "execution_count": 4,
   "id": "7a38c579-9d50-4ba5-95f5-379a9dbee776",
   "metadata": {
    "editable": true,
    "slideshow": {
     "slide_type": ""
    },
    "tags": []
   },
   "outputs": [
    {
     "name": "stdout",
     "output_type": "stream",
     "text": [
      "328\n"
     ]
    }
   ],
   "source": [
    "#Question1: Write a Python Program to Find  the Sum of all elements in a list.\n",
    "\n",
    "mylist = [45 , 8 , 5 , 80 , 12 , 35 , 65 , 78]\n",
    "\n",
    "Total = sum(mylist)\n",
    "\n",
    "print(Total)"
   ]
  },
  {
   "cell_type": "code",
   "execution_count": 141,
   "id": "47690726-f216-4c54-8ae2-73ebe9b864e7",
   "metadata": {},
   "outputs": [
    {
     "name": "stdout",
     "output_type": "stream",
     "text": [
      "Extend Method:  ['Paper', 'Bag', 'Class', 'Object', 'Books', 'Mobiles', 'pencil', 'tree', 'car', 'Cat', 'Rabbit', 'Goat', ' Horse', ' dog', 'squirrel', 'mouse']\n"
     ]
    }
   ],
   "source": [
    "#Question2: Write a program to concatrnate two lists in Python.\n",
    "\n",
    "list1 =[\"Paper\", \"Bag\", \"Class\", \"Object\", \"Books\", \"Mobiles\", \"pencil\", \"tree\", \"car\"]\n",
    "list2 = [ \"Cat\", \"Rabbit\" , \"Goat\" , \" Horse\" , \" dog\" , \"squirrel\", \"mouse\"]\n",
    "\n",
    "list1.extend(list2)\n",
    "\n",
    "print(\"Extend Method: \", list1)"
   ]
  },
  {
   "cell_type": "code",
   "execution_count": 147,
   "id": "46c303a6-a43a-4490-a3db-792f4e07228d",
   "metadata": {},
   "outputs": [
    {
     "name": "stdout",
     "output_type": "stream",
     "text": [
      "Enter a element you want to check in this list: \n"
     ]
    },
    {
     "name": "stdin",
     "output_type": "stream",
     "text": [
      "Enter:  mobile\n"
     ]
    },
    {
     "name": "stdout",
     "output_type": "stream",
     "text": [
      "mobile doesn't exist in the list. \n"
     ]
    }
   ],
   "source": [
    "#Question3: Write a program to check if a given elements exists in a list.\n",
    "\n",
    "mylist1 = ['paper', 'bag', 'class', 'object', 'books', 'mobile', 'pencil', 'tree', 'car', 'cat', 'rabbit', 'goat', ' horse', ' dog', 'squirrel', 'mouse']\n",
    "\n",
    "print(\"Enter a element you want to check in this list: \")\n",
    "\n",
    "check = input(\"Enter: \")\n",
    "\n",
    "if check in mylist1:\n",
    "    print(check.capitalize() + \" exist in the list\")\n",
    "else:\n",
    "    print(check + \" doesn't exist in the list. \")\n",
    "\n"
   ]
  },
  {
   "cell_type": "code",
   "execution_count": 150,
   "id": "50902aad-bd9c-48a3-92fe-359fe5782eaa",
   "metadata": {},
   "outputs": [
    {
     "name": "stdout",
     "output_type": "stream",
     "text": [
      "{2, 4, 5, 10, 20}\n"
     ]
    }
   ],
   "source": [
    "#Question4: Create a Python Progran to remove Duplicates from a list.\n",
    "\n",
    "#fruit = [\"Orange\", \"Avocado\", \"Apple\", \"Banana\", \"Peach\", \"Melon\", \"Blueberry\", \"kiwi\", \"Lemon\", \"Mango\", \"Grape\", \"Avocado\", \"Apricot\", \"Pineapple\", \"Pomegranate\"]\n",
    "\n",
    "\"\"\"mylist= [3, 4, 58, 36, 58, 3, 64, 58,5, 63, 8, 34 , 23 , 26 , 73 , 46 , 4 , 6]\n",
    "print(mylist)\n",
    "\n",
    "txt = int(input(\"Enter a number you want to remove: \"))\n",
    "\n",
    "def Dupli_remover():\n",
    "    mylist.remove(txt)\n",
    "if txt not in mylist:\n",
    "    print(\"This Element\", txt  , \"doesn't Exist in this List: \")\n",
    "else:\n",
    "    print((\"New list: \", mylist))\"\"\"\n",
    "    \n",
    "my_list = [2, 4, 10, 20, 5, 2, 20, 4, 3, 4, 58, 36, 58, 3, 64, 58,5, 63, 8, 34 , 23 , 26 , 73 , 46 , 4 , 6]\n",
    "print(set(my_list))\n",
    "\n",
    "#print(\"New list: \", mylist)"
   ]
  },
  {
   "cell_type": "code",
   "execution_count": 8,
   "id": "94511c78-73ba-4e00-a0fa-a67a4a4df334",
   "metadata": {},
   "outputs": [
    {
     "name": "stdout",
     "output_type": "stream",
     "text": [
      "Mean:  -0.16877010627912498\n",
      "Median:  -0.10176574313251013\n",
      "Standard_Deviation:  0.8842803116398629\n",
      "MyArray:  [[ 0.16311114  0.80724457 -0.33178998 -0.88214256 -0.61882802  0.3546041\n",
      "  -1.68816243  2.22685723  0.31649528 -1.51200552]\n",
      " [-0.50693611  0.19107666  0.30141606  0.35187814 -1.08709849 -0.86517985\n",
      "   0.61327211  0.11234458 -1.00568296 -0.31587607]]\n"
     ]
    }
   ],
   "source": [
    "#Question5: Write a Python Program using Numpy to find the mean, median and standard deviation of elements in an array.\n",
    "\n",
    "import numpy as np\n",
    "import random\n",
    "\n",
    "myarray = np.random.randn(2, 10)\n",
    "\n",
    "#mean\n",
    "mean = np.mean(myarray)\n",
    "print(\"Mean: \", mean)\n",
    "\n",
    "#Median\n",
    "median = np.median(myarray) #Formula of Median\n",
    "print(\"Median: \", median)\n",
    "\n",
    "#Standard Deciation\n",
    "Standard_Deviation = np.std(myarray)\n",
    "print(\"Standard_Deviation: \", Standard_Deviation)\n",
    "\n",
    "\n",
    "print(\"MyArray: \", myarray)"
   ]
  },
  {
   "cell_type": "code",
   "execution_count": null,
   "id": "eddc1cc1-c9a8-4992-8d35-f6e8842ccb7d",
   "metadata": {},
   "outputs": [],
   "source": []
  }
 ],
 "metadata": {
  "kernelspec": {
   "display_name": "Python 3 (ipykernel)",
   "language": "python",
   "name": "python3"
  },
  "language_info": {
   "codemirror_mode": {
    "name": "ipython",
    "version": 3
   },
   "file_extension": ".py",
   "mimetype": "text/x-python",
   "name": "python",
   "nbconvert_exporter": "python",
   "pygments_lexer": "ipython3",
   "version": "3.12.2"
  }
 },
 "nbformat": 4,
 "nbformat_minor": 5
}
