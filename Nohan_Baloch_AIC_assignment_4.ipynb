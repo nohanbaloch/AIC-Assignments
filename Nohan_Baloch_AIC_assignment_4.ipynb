{
 "cells": [
  {
   "cell_type": "code",
   "execution_count": 6,
   "id": "cad13cb3-57f9-4e61-b023-bd5aeb5144d8",
   "metadata": {},
   "outputs": [
    {
     "name": "stdin",
     "output_type": "stream",
     "text": [
      "Enter a Number:  8\n"
     ]
    },
    {
     "name": "stdout",
     "output_type": "stream",
     "text": [
      "Fibonacci Sequence: \n",
      "0\n",
      "1\n",
      "1\n",
      "2\n",
      "3\n",
      "5\n",
      "8\n",
      "13\n"
     ]
    }
   ],
   "source": [
    "\"\"\"Question1: create a python program using a while loop to find the first n fibonacci numbers.\n",
    "Hint: Fibonacci numbers are a series of numbers where each number is the sum of the\n",
    "two preceding ones, usually starting with 0 and 1. Use a while loop to generate \n",
    "Fibonacci numbers until the desired count is reached.\"\"\"\n",
    "\n",
    "\n",
    "n = int(input(\"Enter a Number: \"))\n",
    "\n",
    "a,b = 0, 1\n",
    "num = 0\n",
    "myfs = []\n",
    "\n",
    "while num < n:\n",
    "    myfs.append(a)\n",
    "    a, b = b, a+b\n",
    "    num +=1\n",
    "\n",
    "print(\"Fibonacci Sequence: \")\n",
    "for num in myfs:\n",
    "    print(num)"
   ]
  },
  {
   "cell_type": "code",
   "execution_count": 24,
   "id": "5162c427-0034-46f7-9359-8746f12c7237",
   "metadata": {},
   "outputs": [
    {
     "name": "stdin",
     "output_type": "stream",
     "text": [
      "Enter a number:  4\n"
     ]
    },
    {
     "name": "stdout",
     "output_type": "stream",
     "text": [
      "THE FACTORIAL OF 4 is 24\n"
     ]
    }
   ],
   "source": [
    "\"\"\"Question2: Write a Python program using a for loop to calculate the factorial of a given number.\n",
    "Hint: The factorial of a non-negative integer n is the product of all positive integers less than or equal to n.\"\"\"\n",
    "\n",
    "number = int(input(\"Enter a number: \"))\n",
    "    \n",
    "factorial = 1\n",
    "\n",
    "if number < 0:\n",
    "        print(\"Factorial doesn't exist for negative numbers\")\n",
    "elif number == 0:\n",
    "        Print(\"The Factorial of 0 is 1\")\n",
    "else:\n",
    "    for i in range(1, number + 1):\n",
    "        factorial *= i\n",
    "        \n",
    "\n",
    "\n",
    "print(\"THE FACTORIAL OF\", number, \"is\", factorial)\n",
    "\n"
   ]
  },
  {
   "cell_type": "code",
   "execution_count": 54,
   "id": "4f92a93c-f123-4a0e-be52-3b650cc4763b",
   "metadata": {},
   "outputs": [
    {
     "name": "stdout",
     "output_type": "stream",
     "text": [
      "paper\n",
      "bag\n",
      "books\n",
      "mobile\n",
      "shoes\n",
      "car\n",
      "('car', 'shoes', 'mobile', 'books', 'bag')\n"
     ]
    }
   ],
   "source": [
    "\"\"\"Question3: Write a Python program to unpack a tuple and print its elements in reverse order.\n",
    "Hint: Tuples are immutable, but you can unpack them into variables. Use slicing to reverse the \n",
    "order of elements before printing.\"\"\"\n",
    "\n",
    "\n",
    "mytuple = ('paper', 'bag', 'books', 'mobile', 'shoes', 'car', )\n",
    "(a, b, c, d, e, f) = mytuple\n",
    "print(a)\n",
    "print(b)\n",
    "print(c)\n",
    "print(d)\n",
    "print(e)\n",
    "print(f)\n",
    "\n",
    "\n",
    "\n",
    "\n",
    "print(mytuple[-1:-6:-1])\n"
   ]
  },
  {
   "cell_type": "code",
   "execution_count": null,
   "id": "d38b8fb1-1be7-4536-88f0-b349af284cf8",
   "metadata": {},
   "outputs": [],
   "source": []
  }
 ],
 "metadata": {
  "kernelspec": {
   "display_name": "Python 3 (ipykernel)",
   "language": "python",
   "name": "python3"
  },
  "language_info": {
   "codemirror_mode": {
    "name": "ipython",
    "version": 3
   },
   "file_extension": ".py",
   "mimetype": "text/x-python",
   "name": "python",
   "nbconvert_exporter": "python",
   "pygments_lexer": "ipython3",
   "version": "3.12.2"
  }
 },
 "nbformat": 4,
 "nbformat_minor": 5
}
